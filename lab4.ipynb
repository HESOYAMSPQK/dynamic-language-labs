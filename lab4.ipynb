{
 "cells": [
  {
   "cell_type": "markdown",
   "metadata": {},
   "source": [
    "# Лабораторная работа №4\n",
    "### Задание 1\n",
    "Провести классификацию найденного датасета, методами наивного Байеса. В формате Markdown написать пояснения. Объяснить почему были выбраны именно такие гиперпараметры, была ли перекрестная проверка, и т.д.\n",
    "\n",
    "### Выполнение работы:\n",
    "### Шаг 1. Загрузка датасета"
   ]
  },
  {
   "cell_type": "code",
   "execution_count": 7,
   "metadata": {},
   "outputs": [],
   "source": [
    "from sklearn import svm\n",
    "from sklearn.naive_bayes import GaussianNB,BernoulliNB, MultinomialNB\n",
    "from sklearn.preprocessing import MinMaxScaler\n",
    "from sklearn.model_selection import cross_val_score\n",
    "from sklearn.metrics import mean_squared_error, r2_score\n",
    "from sklearn.preprocessing import StandardScaler\n",
    "from sklearn.metrics import accuracy_score, classification_report\n",
    "from sklearn.model_selection import train_test_split\n",
    "from sklearn.model_selection import GridSearchCV\n",
    "import pandas as pd\n",
    "\n",
    "\n",
    "df = pd.read_csv(\"./base_v3.csv\")\n",
    "\n",
    "y = df[\"is_fraud\"]\n",
    "X = df.drop(\"is_fraud\", axis=1)\n",
    "\n",
    "# Разделение на тренировочные и тестовые данные\n",
    "X_train, X_test, y_train, y_test = train_test_split(X, y, test_size=0.2, random_state=42)\n",
    "\n",
    "# Стандартизация данных\n",
    "scaler = StandardScaler()\n",
    "X_train = scaler.fit_transform(X_train)\n",
    "X_test = scaler.transform(X_test)\n"
   ]
  },
  {
   "cell_type": "markdown",
   "metadata": {},
   "source": [
    "### Шаг 2. Создание модели наивного Байеса\n"
   ]
  },
  {
   "cell_type": "markdown",
   "metadata": {},
   "source": [
    "Метод наивного байеса (Naive Bayes) — это семейство простых вероятностных классификаторов, основанных на применении теоремы Байеса со строгими (наивными) предположениями о независимости между признаками."
   ]
  },
  {
   "cell_type": "code",
   "execution_count": 8,
   "metadata": {},
   "outputs": [
    {
     "name": "stdout",
     "output_type": "stream",
     "text": [
      "Лучшая модель: GaussianNB\n",
      "Лучшие параметры: {'alpha': 0.1}\n"
     ]
    }
   ],
   "source": [
    "# Замените StandardScaler на MinMaxScaler\n",
    "scaler = MinMaxScaler()\n",
    "X_train = scaler.fit_transform(X_train)\n",
    "X_test = scaler.transform(X_test)\n",
    "\n",
    "# Создание моделей с соответствующими параметрами\n",
    "naive_bayes_models = {\n",
    "    'GaussianNB': GaussianNB(),\n",
    "    'BernoulliNB': BernoulliNB(),\n",
    "    'MultinomialNB': MultinomialNB()\n",
    "}\n",
    "\n",
    "# Задание сетки параметров для всех моделей\n",
    "param_grid = {\n",
    "    'GaussianNB': {},\n",
    "    'BernoulliNB': {'alpha': [0.1, 0.5, 1.0], 'binarize': [0.0, 0.1, 0.2]},\n",
    "    'MultinomialNB': {'alpha': [0.1, 0.5, 1.0]}\n",
    "}\n",
    "\n",
    "scoring_metric = 'accuracy'\n",
    "\n",
    "best_models = {}\n",
    "for model_name,model in naive_bayes_models.items():\n",
    "    grid_search = GridSearchCV(model,param_grid[model_name],scoring = scoring_metric,cv=5)\n",
    "    grid_search.fit(X_train,y_train)\n",
    "\n",
    "    best_models[model_name] = grid_search.best_estimator_\n",
    "#Оценка моделей\n",
    "best_model_name = max(best_models, key=lambda k: grid_search.cv_results_['mean_test_score'][grid_search.best_index_])\n",
    "best_model = best_models[best_model_name]\n",
    "\n",
    "print(f\"Лучшая модель: {best_model_name}\")\n",
    "print(f\"Лучшие параметры: {grid_search.best_params_}\")"
   ]
  },
  {
   "cell_type": "markdown",
   "metadata": {},
   "source": [
    "###  Шаг 3. Вывод результатов\n"
   ]
  },
  {
   "cell_type": "code",
   "execution_count": 9,
   "metadata": {},
   "outputs": [
    {
     "name": "stdout",
     "output_type": "stream",
     "text": [
      "Точность модели: 0.905\n",
      "              precision    recall  f1-score   support\n",
      "\n",
      "           0       0.91      0.98      0.95      2038\n",
      "           1       0.82      0.47      0.60       362\n",
      "\n",
      "    accuracy                           0.91      2400\n",
      "   macro avg       0.87      0.73      0.77      2400\n",
      "weighted avg       0.90      0.91      0.89      2400\n",
      "\n"
     ]
    }
   ],
   "source": [
    "best_model.fit(X_train,y_train)\n",
    "\n",
    "y_pred_full = best_model.predict(X_test)\n",
    "accuracy = accuracy_score(y_test,y_pred_full)\n",
    "classification_rep = classification_report(y_test,y_pred_full)\n",
    "print(f\"Точность модели: {accuracy}\")\n",
    "print(classification_rep)"
   ]
  }
 ],
 "metadata": {
  "kernelspec": {
   "display_name": "Python 3",
   "language": "python",
   "name": "python3"
  },
  "language_info": {
   "codemirror_mode": {
    "name": "ipython",
    "version": 3
   },
   "file_extension": ".py",
   "mimetype": "text/x-python",
   "name": "python",
   "nbconvert_exporter": "python",
   "pygments_lexer": "ipython3",
   "version": "3.11.5"
  }
 },
 "nbformat": 4,
 "nbformat_minor": 2
}
